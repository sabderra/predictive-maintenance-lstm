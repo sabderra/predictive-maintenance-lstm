{
 "cells": [
  {
   "cell_type": "code",
   "execution_count": 1,
   "metadata": {},
   "outputs": [
    {
     "name": "stderr",
     "output_type": "stream",
     "text": [
      "Using TensorFlow backend.\n"
     ]
    }
   ],
   "source": [
    "import pandas as pd\n",
    "import numpy as np\n",
    "\n",
    "import glob\n",
    "import os\n",
    "from tqdm import tqdm\n",
    "\n",
    "# Setting seed for reproducability\n",
    "np.random.seed(101)  \n",
    "PYTHONHASHSEED = 0\n",
    "\n",
    "import tensorflow as tf\n",
    "import keras\n",
    "from keras.models import Sequential, load_model\n",
    "from keras.layers import Dense, Dropout, LSTM, Activation\n",
    "\n",
    "import matplotlib.pyplot as plt\n",
    "%matplotlib inline\n",
    "\n",
    "from data_generator import TSDataGenerator\n",
    "import data_util\n",
    "from util import set_log_dir, rmse\n"
   ]
  },
  {
   "cell_type": "code",
   "execution_count": 2,
   "metadata": {},
   "outputs": [],
   "source": [
    "DATA_DIR = os.path.abspath(\"./data\")\n",
    "MODEL_DIR = os.path.abspath(\"./model\")\n"
   ]
  },
  {
   "cell_type": "code",
   "execution_count": 3,
   "metadata": {},
   "outputs": [],
   "source": [
    "cols = ['id', 'cycle' ]\n",
    "\n",
    "# Three operational setting columns\n",
    "setting_cols = ['setting' + str(i) for i in range(1,4)]\n",
    "cols.extend(setting_cols)\n",
    "\n",
    "# Twenty one sensor columns\n",
    "sensor_cols = ['s' + str(i) for i in range(1,22)]\n",
    "cols.extend(sensor_cols)\n",
    "\n",
    "# The data already comes sorted, but to be on the safe we will \n",
    "# maintain an order based on engine and cycle and ascending cycle.\n",
    "sort_cols = ['id','cycle']\n"
   ]
  },
  {
   "cell_type": "markdown",
   "metadata": {},
   "source": [
    "## Load Model"
   ]
  },
  {
   "cell_type": "code",
   "execution_count": 4,
   "metadata": {},
   "outputs": [],
   "source": [
    "# Feature columns. \n",
    "feature_cols = ['cycle_norm', 'condition']\n",
    "\n",
    "# Label columns\n",
    "label_cols = ['RUL']\n",
    "\n",
    "# Three operational setting columns\n",
    "setting_cols = ['setting' + str(i) for i in range(1,4)]\n",
    "feature_cols.extend(setting_cols)\n",
    "\n",
    "# Twenty one sensor columns\n",
    "sensor_cols = ['s' + str(i) for i in range(1,22)]\n",
    "feature_cols.extend(sensor_cols)\n"
   ]
  },
  {
   "cell_type": "markdown",
   "metadata": {},
   "source": [
    "Keras requires that you use same batch size in predicting as you used when training. Here we will create the same model, but parameterize the shapes. This will allow us to specify a model with a batch size of 1. "
   ]
  },
  {
   "cell_type": "code",
   "execution_count": 5,
   "metadata": {},
   "outputs": [],
   "source": [
    "from keras.models import Sequential, load_model\n",
    "from keras.layers import Dense, Dropout, LSTM, Masking, Activation\n",
    "from sklearn import preprocessing\n",
    "\n",
    "def create_model(batch_size, seq_length, num_features, num_labels):\n",
    "    # build the network\n",
    "\n",
    "    model = Sequential()\n",
    "\n",
    "    model.add(LSTM(\n",
    "             input_shape=(seq_length, num_features),\n",
    "             units=128,\n",
    "             batch_input_shape=(batch_size, seq_length, num_features),\n",
    "             stateful=False,\n",
    "             return_sequences=False))\n",
    "\n",
    "    model.add(Dense(units=64, activation='relu'))\n",
    "    model.add(Dense(units=32, activation='relu'))\n",
    "\n",
    "    model.add(Dense(units=num_labels, activation='relu'))\n",
    "    \n",
    "    return model"
   ]
  },
  {
   "cell_type": "code",
   "execution_count": 6,
   "metadata": {},
   "outputs": [
    {
     "name": "stdout",
     "output_type": "stream",
     "text": [
      "Loading model:  /home/saad/workspaces/predictive-maintenance-lstm/model/engine_model.h5\n",
      "_________________________________________________________________\n",
      "Layer (type)                 Output Shape              Param #   \n",
      "=================================================================\n",
      "lstm_1 (LSTM)                (1, 128)                  79360     \n",
      "_________________________________________________________________\n",
      "dense_1 (Dense)              (1, 64)                   8256      \n",
      "_________________________________________________________________\n",
      "dense_2 (Dense)              (1, 32)                   2080      \n",
      "_________________________________________________________________\n",
      "dense_3 (Dense)              (1, 1)                    33        \n",
      "=================================================================\n",
      "Total params: 89,729\n",
      "Trainable params: 89,729\n",
      "Non-trainable params: 0\n",
      "_________________________________________________________________\n"
     ]
    }
   ],
   "source": [
    "\n",
    "sequence_length = 25              # Size of the series time window.\n",
    "batch_size = 1                    # Number of time series sequences that will predict on\n",
    "num_features = len(feature_cols)\n",
    "num_labels = len(label_cols)\n",
    "\n",
    "model_path = os.path.join(MODEL_DIR,'engine_model.h5')\n",
    "print(\"Loading model: \", model_path)\n",
    "\n",
    "# Device to load the neural network on. Use CPU device to avoid conflict if training is going on.\n",
    "DEVICE = \"/cpu:0\"  # /cpu:0 or /gpu:0\n",
    "#DEVICE = \"/gpu:0\"  # /cpu:0 or /gpu:0\n",
    "\n",
    "with tf.device(DEVICE):\n",
    "    custom_objects={'rmse':rmse}\n",
    "    inf_model = create_model(batch_size, sequence_length, num_features, num_labels)\n",
    "    inf_model.load_weights(model_path)\n",
    "#    inf_model = load_model(model_path, custom_objects=custom_objects)\n",
    "\n",
    "inf_model.summary()"
   ]
  },
  {
   "cell_type": "markdown",
   "metadata": {},
   "source": [
    "## Load Pipeline\n"
   ]
  },
  {
   "cell_type": "code",
   "execution_count": 7,
   "metadata": {},
   "outputs": [
    {
     "name": "stdout",
     "output_type": "stream",
     "text": [
      "Loading pipeline:  /home/saad/workspaces/predictive-maintenance-lstm/model/engine_pipeline.pkl\n"
     ]
    }
   ],
   "source": [
    "from sklearn.externals import joblib \n",
    "\n",
    "pipeline_path = os.path.join(MODEL_DIR, 'engine_pipeline.pkl')\n",
    "print(\"Loading pipeline: \", pipeline_path)\n",
    "\n",
    "pipeline = joblib.load(pipeline_path) \n"
   ]
  },
  {
   "cell_type": "markdown",
   "metadata": {},
   "source": [
    "## Load test data"
   ]
  },
  {
   "cell_type": "code",
   "execution_count": 8,
   "metadata": {},
   "outputs": [],
   "source": [
    "dataset_name = 'FD002'"
   ]
  },
  {
   "cell_type": "code",
   "execution_count": 9,
   "metadata": {},
   "outputs": [
    {
     "name": "stdout",
     "output_type": "stream",
     "text": [
      "(259, 2)\n"
     ]
    },
    {
     "data": {
      "text/html": [
       "<div>\n",
       "<style scoped>\n",
       "    .dataframe tbody tr th:only-of-type {\n",
       "        vertical-align: middle;\n",
       "    }\n",
       "\n",
       "    .dataframe tbody tr th {\n",
       "        vertical-align: top;\n",
       "    }\n",
       "\n",
       "    .dataframe thead th {\n",
       "        text-align: right;\n",
       "    }\n",
       "</style>\n",
       "<table border=\"1\" class=\"dataframe\">\n",
       "  <thead>\n",
       "    <tr style=\"text-align: right;\">\n",
       "      <th></th>\n",
       "      <th>id</th>\n",
       "      <th>cycle</th>\n",
       "      <th>setting1</th>\n",
       "      <th>setting2</th>\n",
       "      <th>setting3</th>\n",
       "      <th>s1</th>\n",
       "      <th>s2</th>\n",
       "      <th>s3</th>\n",
       "      <th>s4</th>\n",
       "      <th>s5</th>\n",
       "      <th>...</th>\n",
       "      <th>s15</th>\n",
       "      <th>s16</th>\n",
       "      <th>s17</th>\n",
       "      <th>s18</th>\n",
       "      <th>s19</th>\n",
       "      <th>s20</th>\n",
       "      <th>s21</th>\n",
       "      <th>condition</th>\n",
       "      <th>RUL</th>\n",
       "      <th>cycle_norm</th>\n",
       "    </tr>\n",
       "  </thead>\n",
       "  <tbody>\n",
       "    <tr>\n",
       "      <th>0</th>\n",
       "      <td>6001</td>\n",
       "      <td>1</td>\n",
       "      <td>-0.523647</td>\n",
       "      <td>-0.404700</td>\n",
       "      <td>1.0</td>\n",
       "      <td>0.195873</td>\n",
       "      <td>0.268813</td>\n",
       "      <td>0.360090</td>\n",
       "      <td>0.346452</td>\n",
       "      <td>0.234360</td>\n",
       "      <td>...</td>\n",
       "      <td>-0.662406</td>\n",
       "      <td>1.0</td>\n",
       "      <td>0.367347</td>\n",
       "      <td>0.708245</td>\n",
       "      <td>1.0</td>\n",
       "      <td>0.228389</td>\n",
       "      <td>0.242430</td>\n",
       "      <td>1.0</td>\n",
       "      <td>275</td>\n",
       "      <td>-1.00000</td>\n",
       "    </tr>\n",
       "    <tr>\n",
       "      <th>1</th>\n",
       "      <td>6001</td>\n",
       "      <td>2</td>\n",
       "      <td>-0.047460</td>\n",
       "      <td>0.662948</td>\n",
       "      <td>1.0</td>\n",
       "      <td>0.253970</td>\n",
       "      <td>0.319712</td>\n",
       "      <td>0.274743</td>\n",
       "      <td>0.064541</td>\n",
       "      <td>0.015873</td>\n",
       "      <td>...</td>\n",
       "      <td>-0.254999</td>\n",
       "      <td>-1.0</td>\n",
       "      <td>0.265306</td>\n",
       "      <td>0.729387</td>\n",
       "      <td>1.0</td>\n",
       "      <td>-0.049445</td>\n",
       "      <td>-0.019688</td>\n",
       "      <td>1.0</td>\n",
       "      <td>274</td>\n",
       "      <td>-0.99631</td>\n",
       "    </tr>\n",
       "    <tr>\n",
       "      <th>2</th>\n",
       "      <td>6001</td>\n",
       "      <td>3</td>\n",
       "      <td>0.666633</td>\n",
       "      <td>0.995253</td>\n",
       "      <td>1.0</td>\n",
       "      <td>-0.879462</td>\n",
       "      <td>-0.625650</td>\n",
       "      <td>-0.377886</td>\n",
       "      <td>-0.499234</td>\n",
       "      <td>-0.706816</td>\n",
       "      <td>...</td>\n",
       "      <td>-0.181681</td>\n",
       "      <td>-1.0</td>\n",
       "      <td>-0.367347</td>\n",
       "      <td>0.302326</td>\n",
       "      <td>1.0</td>\n",
       "      <td>-0.675748</td>\n",
       "      <td>-0.676477</td>\n",
       "      <td>1.0</td>\n",
       "      <td>273</td>\n",
       "      <td>-0.99262</td>\n",
       "    </tr>\n",
       "    <tr>\n",
       "      <th>3</th>\n",
       "      <td>6001</td>\n",
       "      <td>4</td>\n",
       "      <td>0.999933</td>\n",
       "      <td>0.997626</td>\n",
       "      <td>1.0</td>\n",
       "      <td>-1.000000</td>\n",
       "      <td>-0.732008</td>\n",
       "      <td>-0.428068</td>\n",
       "      <td>-0.501484</td>\n",
       "      <td>-1.000000</td>\n",
       "      <td>...</td>\n",
       "      <td>-0.148079</td>\n",
       "      <td>-1.0</td>\n",
       "      <td>-0.387755</td>\n",
       "      <td>0.255814</td>\n",
       "      <td>1.0</td>\n",
       "      <td>-0.987218</td>\n",
       "      <td>-0.954560</td>\n",
       "      <td>1.0</td>\n",
       "      <td>272</td>\n",
       "      <td>-0.98893</td>\n",
       "    </tr>\n",
       "    <tr>\n",
       "      <th>4</th>\n",
       "      <td>6001</td>\n",
       "      <td>5</td>\n",
       "      <td>0.190346</td>\n",
       "      <td>0.476145</td>\n",
       "      <td>-1.0</td>\n",
       "      <td>-0.523822</td>\n",
       "      <td>-0.977378</td>\n",
       "      <td>-0.943833</td>\n",
       "      <td>-0.871110</td>\n",
       "      <td>-0.413632</td>\n",
       "      <td>...</td>\n",
       "      <td>0.863465</td>\n",
       "      <td>-1.0</td>\n",
       "      <td>-0.938776</td>\n",
       "      <td>-1.000000</td>\n",
       "      <td>-1.0</td>\n",
       "      <td>-0.720821</td>\n",
       "      <td>-0.714214</td>\n",
       "      <td>1.0</td>\n",
       "      <td>271</td>\n",
       "      <td>-0.98524</td>\n",
       "    </tr>\n",
       "  </tbody>\n",
       "</table>\n",
       "<p>5 rows × 29 columns</p>\n",
       "</div>"
      ],
      "text/plain": [
       "     id  cycle  setting1  setting2  setting3        s1        s2        s3  \\\n",
       "0  6001      1 -0.523647 -0.404700       1.0  0.195873  0.268813  0.360090   \n",
       "1  6001      2 -0.047460  0.662948       1.0  0.253970  0.319712  0.274743   \n",
       "2  6001      3  0.666633  0.995253       1.0 -0.879462 -0.625650 -0.377886   \n",
       "3  6001      4  0.999933  0.997626       1.0 -1.000000 -0.732008 -0.428068   \n",
       "4  6001      5  0.190346  0.476145      -1.0 -0.523822 -0.977378 -0.943833   \n",
       "\n",
       "         s4        s5     ...           s15  s16       s17       s18  s19  \\\n",
       "0  0.346452  0.234360     ...     -0.662406  1.0  0.367347  0.708245  1.0   \n",
       "1  0.064541  0.015873     ...     -0.254999 -1.0  0.265306  0.729387  1.0   \n",
       "2 -0.499234 -0.706816     ...     -0.181681 -1.0 -0.367347  0.302326  1.0   \n",
       "3 -0.501484 -1.000000     ...     -0.148079 -1.0 -0.387755  0.255814  1.0   \n",
       "4 -0.871110 -0.413632     ...      0.863465 -1.0 -0.938776 -1.000000 -1.0   \n",
       "\n",
       "        s20       s21  condition  RUL  cycle_norm  \n",
       "0  0.228389  0.242430        1.0  275    -1.00000  \n",
       "1 -0.049445 -0.019688        1.0  274    -0.99631  \n",
       "2 -0.675748 -0.676477        1.0  273    -0.99262  \n",
       "3 -0.987218 -0.954560        1.0  272    -0.98893  \n",
       "4 -0.720821 -0.714214        1.0  271    -0.98524  \n",
       "\n",
       "[5 rows x 29 columns]"
      ]
     },
     "execution_count": 9,
     "metadata": {},
     "output_type": "execute_result"
    }
   ],
   "source": [
    "test_X_path = os.path.join(DATA_DIR, 'test_' + dataset_name + '.txt')\n",
    "test_y_path = os.path.join(DATA_DIR, 'RUL_' + dataset_name + '.txt')\n",
    "\n",
    "# Read in the features\n",
    "test_df = data_util.load_data([test_X_path], cols, sort_cols)\n",
    "\n",
    "# Read in the labels (RUL)\n",
    "test_rul_df = data_util.load_rul_data([test_y_path], ['id', 'RUL_actual'])\n",
    "\n",
    "# Calculate the RUL and merge back to the test dataframe\n",
    "test_df = data_util.calc_test_rul(test_df, test_rul_df)\n",
    "\n",
    "# Transform\n",
    "test_df = data_util.transform(test_df, pipeline)\n",
    "\n",
    "test_df.head()"
   ]
  },
  {
   "cell_type": "markdown",
   "metadata": {},
   "source": [
    "## Prediction"
   ]
  },
  {
   "cell_type": "code",
   "execution_count": 10,
   "metadata": {
    "scrolled": false
   },
   "outputs": [],
   "source": [
    "results = []\n",
    "\n",
    "for engine_id in test_df['id'].unique():\n",
    "    engine_df = test_df[ test_df['id'] == engine_id]\n",
    "\n",
    "    # Skip the engine with less then 25 for now, TODO pad\n",
    "    if engine_df.shape[0] > sequence_length:\n",
    "        last_batch = engine_df[feature_cols].iloc[-sequence_length:].values.reshape(batch_size, sequence_length, num_features)\n",
    "        rul = engine_df['RUL'].iloc[-1:].values[0]\n",
    "        prediction = inf_model.predict_on_batch(last_batch)[0,0]\n",
    "\n",
    "        results.append([engine_id, prediction, rul, prediction-rul])\n",
    "#    print(\"{:4} {:8.2f} {:>4} {:>8.2f}\".format(engine_id, prediction, rul, prediction-rul))\n",
    "\n",
    "results = np.array(results)"
   ]
  },
  {
   "cell_type": "markdown",
   "metadata": {},
   "source": [
    "Plot the results"
   ]
  },
  {
   "cell_type": "code",
   "execution_count": 11,
   "metadata": {},
   "outputs": [
    {
     "name": "stdout",
     "output_type": "stream",
     "text": [
      "Data set:  FD002\n",
      "Model:     /home/saad/workspaces/predictive-maintenance-lstm/model/engine_model.h5\n",
      "Pipeline:  /home/saad/workspaces/predictive-maintenance-lstm/model/engine_pipeline.pkl\n"
     ]
    },
    {
     "data": {
      "image/png": "[encoded data removed]",
      "text/plain": [
       "<Figure size 432x288 with 1 Axes>"
      ]
     },
     "metadata": {
      "needs_background": "light"
     },
     "output_type": "display_data"
    }
   ],
   "source": [
    "print(\"Data set: \", dataset_name)\n",
    "print(\"Model:    \", model_path)\n",
    "print(\"Pipeline: \", pipeline_path)\n",
    "\n",
    "#fig = plt.figure(figsize=(25,5))\n",
    "plt.scatter(results[:,0], results[:,3], marker='.', label=\"Diff\")\n",
    "plt.xlabel(\"Engine Id\")\n",
    "plt.ylabel(\"Prediction - RUL\")\n",
    "\n",
    "plt.axhline(y=0, color='r', marker='.')\n",
    "\n",
    "plt.show()"
   ]
  },
  {
   "cell_type": "code",
   "execution_count": 12,
   "metadata": {},
   "outputs": [
    {
     "data": {
      "image/png": "[encoded data removed]",
      "text/plain": [
       "<Figure size 432x288 with 1 Axes>"
      ]
     },
     "metadata": {
      "needs_background": "light"
     },
     "output_type": "display_data"
    }
   ],
   "source": [
    "plt.scatter(results[:,2], results[:,1], marker='.')\n",
    "plt.plot(results[:,2], results[:,2], 'r')\n",
    "plt.xlabel(\"RUL actual\")\n",
    "plt.ylabel(\"RUL predicted\")\n",
    "\n",
    "plt.show()"
   ]
  }
 ],
 "metadata": {
  "anaconda-cloud": {},
  "kernelspec": {
   "display_name": "Python 3",
   "language": "python",
   "name": "python3"
  },
  "language_info": {
   "codemirror_mode": {
    "name": "ipython",
    "version": 3
   },
   "file_extension": ".py",
   "mimetype": "text/x-python",
   "name": "python",
   "nbconvert_exporter": "python",
   "pygments_lexer": "ipython3",
   "version": "3.6.7"
  }
 },
 "nbformat": 4,
 "nbformat_minor": 2
}
