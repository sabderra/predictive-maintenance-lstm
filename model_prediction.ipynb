{
 "cells": [
  {
   "cell_type": "markdown",
   "metadata": {},
   "source": [
    "In This notebook we utilize the model previously created to run RUL prediction on the engines in the test data files."
   ]
  },
  {
   "cell_type": "code",
   "execution_count": 1,
   "metadata": {},
   "outputs": [
    {
     "name": "stderr",
     "output_type": "stream",
     "text": [
      "Using TensorFlow backend.\n"
     ]
    }
   ],
   "source": [
    "import pandas as pd\n",
    "import numpy as np\n",
    "\n",
    "import glob\n",
    "import os\n",
    "from tqdm import tqdm\n",
    "\n",
    "# Setting seed for reproducability\n",
    "np.random.seed(101)  \n",
    "PYTHONHASHSEED = 0\n",
    "\n",
    "import tensorflow as tf\n",
    "import keras\n",
    "from keras.models import Sequential, load_model\n",
    "from keras.layers import Dense, Dropout, LSTM, Activation\n",
    "\n",
    "from sklearn.externals import joblib \n",
    "\n",
    "import matplotlib.pyplot as plt\n",
    "%matplotlib inline\n",
    "\n",
    "from data_generator import TSDataGenerator\n",
    "import data_util\n",
    "from util import rmse\n"
   ]
  },
  {
   "cell_type": "markdown",
   "metadata": {},
   "source": [
    "## Setup"
   ]
  },
  {
   "cell_type": "code",
   "execution_count": 2,
   "metadata": {},
   "outputs": [],
   "source": [
    "DATA_DIR = os.path.abspath(\"./data\")\n",
    "MODEL_DIR = os.path.abspath(\"./model\")\n"
   ]
  },
  {
   "cell_type": "code",
   "execution_count": 3,
   "metadata": {},
   "outputs": [],
   "source": [
    "cols = ['id', 'cycle' ]\n",
    "\n",
    "# Three operational setting columns\n",
    "setting_cols = ['setting' + str(i) for i in range(1,4)]\n",
    "cols.extend(setting_cols)\n",
    "\n",
    "# Twenty one sensor columns\n",
    "sensor_cols = ['s' + str(i) for i in range(1,22)]\n",
    "cols.extend(sensor_cols)\n",
    "\n",
    "# The data already comes sorted, but to be on the safe we will \n",
    "# maintain an order based on engine and cycle and ascending cycle.\n",
    "sort_cols = ['id','cycle']\n"
   ]
  },
  {
   "cell_type": "markdown",
   "metadata": {},
   "source": [
    "### Load Model"
   ]
  },
  {
   "cell_type": "code",
   "execution_count": 4,
   "metadata": {},
   "outputs": [],
   "source": [
    "# Feature columns. \n",
    "feature_cols = ['cycle_norm', 'condition']\n",
    "\n",
    "# Label columns\n",
    "label_cols = ['RUL']\n",
    "\n",
    "# Three operational setting columns\n",
    "setting_cols = ['setting' + str(i) for i in range(1,4)]\n",
    "feature_cols.extend(setting_cols)\n",
    "\n",
    "# Twenty one sensor columns\n",
    "sensor_cols = ['s' + str(i) for i in range(1,22)]\n",
    "feature_cols.extend(sensor_cols)\n"
   ]
  },
  {
   "cell_type": "markdown",
   "metadata": {},
   "source": [
    "Keras requires that you use same batch size in predicting as you used when training. Here we will create the same model, but parameterize the shapes. This will allow us to specify a model with a batch size of 1. "
   ]
  },
  {
   "cell_type": "code",
   "execution_count": 5,
   "metadata": {},
   "outputs": [],
   "source": [
    "from keras.models import Sequential, load_model\n",
    "from keras.layers import Dense, Dropout, LSTM, Masking, Activation\n",
    "from sklearn import preprocessing\n",
    "\n",
    "def create_model(batch_size, seq_length, num_features, num_labels):\n",
    "    # build the network\n",
    "\n",
    "    model = Sequential()\n",
    "\n",
    "    model.add(LSTM(\n",
    "             input_shape=(seq_length, num_features),\n",
    "             units=128,\n",
    "             batch_input_shape=(batch_size, seq_length, num_features),\n",
    "             stateful=False,\n",
    "             return_sequences=False))\n",
    "\n",
    "    model.add(Dense(units=64, activation='relu'))\n",
    "    model.add(Dense(units=32, activation='relu'))\n",
    "\n",
    "    model.add(Dense(units=num_labels, activation='relu'))\n",
    "    \n",
    "    return model\n"
   ]
  },
  {
   "cell_type": "code",
   "execution_count": 6,
   "metadata": {},
   "outputs": [
    {
     "name": "stdout",
     "output_type": "stream",
     "text": [
      "Loading model:  /home/saad/workspaces/predictive-maintenance-lstm/model/engine_model.h5\n",
      "_________________________________________________________________\n",
      "Layer (type)                 Output Shape              Param #   \n",
      "=================================================================\n",
      "lstm_1 (LSTM)                (1, 128)                  79360     \n",
      "_________________________________________________________________\n",
      "dense_1 (Dense)              (1, 64)                   8256      \n",
      "_________________________________________________________________\n",
      "dense_2 (Dense)              (1, 32)                   2080      \n",
      "_________________________________________________________________\n",
      "dense_3 (Dense)              (1, 1)                    33        \n",
      "=================================================================\n",
      "Total params: 89,729\n",
      "Trainable params: 89,729\n",
      "Non-trainable params: 0\n",
      "_________________________________________________________________\n"
     ]
    }
   ],
   "source": [
    "sequence_length = 25              # Size of the series time window.\n",
    "batch_size = 1                    # Number of time series sequences that will predict on\n",
    "num_features = len(feature_cols)\n",
    "num_labels = len(label_cols)\n",
    "\n",
    "model_path = os.path.join(MODEL_DIR,'engine_model.h5')\n",
    "print(\"Loading model: \", model_path)\n",
    "\n",
    "# Device to load the neural network on. /cpu:0 or /gpu:0\n",
    "# Use CPU device to avoid conflict if training has the GPU\n",
    "DEVICE = \"/cpu:0\" \n",
    "#DEVICE = \"/gpu:0\"\n",
    "\n",
    "with tf.device(DEVICE):\n",
    "    custom_objects={'rmse':rmse}\n",
    "    inf_model = create_model(batch_size, sequence_length, num_features, num_labels)\n",
    "    inf_model.load_weights(model_path)\n",
    "#    inf_model = load_model(model_path, custom_objects=custom_objects)\n",
    "\n",
    "inf_model.summary()\n"
   ]
  },
  {
   "cell_type": "markdown",
   "metadata": {},
   "source": [
    "### Load Pipeline\n"
   ]
  },
  {
   "cell_type": "code",
   "execution_count": 7,
   "metadata": {},
   "outputs": [
    {
     "name": "stdout",
     "output_type": "stream",
     "text": [
      "Loading pipeline:  /home/saad/workspaces/predictive-maintenance-lstm/model/engine_pipeline.pkl\n"
     ]
    }
   ],
   "source": [
    "pipeline_path = os.path.join(MODEL_DIR, 'engine_pipeline.pkl')\n",
    "print(\"Loading pipeline: \", pipeline_path)\n",
    "\n",
    "pipeline = joblib.load(pipeline_path) \n"
   ]
  },
  {
   "cell_type": "markdown",
   "metadata": {},
   "source": [
    "## Prediction"
   ]
  },
  {
   "cell_type": "markdown",
   "metadata": {},
   "source": [
    "We will iterate over all the test files to run a prediction on a single batch for each engine's containing its last sequence_length events."
   ]
  },
  {
   "cell_type": "code",
   "execution_count": 8,
   "metadata": {},
   "outputs": [
    {
     "data": {
      "text/plain": [
       "['/home/saad/workspaces/predictive-maintenance-lstm/data/test_FD001.txt',\n",
       " '/home/saad/workspaces/predictive-maintenance-lstm/data/test_FD002.txt',\n",
       " '/home/saad/workspaces/predictive-maintenance-lstm/data/test_FD003.txt',\n",
       " '/home/saad/workspaces/predictive-maintenance-lstm/data/test_FD004.txt']"
      ]
     },
     "execution_count": 8,
     "metadata": {},
     "output_type": "execute_result"
    }
   ],
   "source": [
    "path = os.path.join(DATA_DIR, \"test_FD*.txt\")\n",
    "all_test_files = sorted(glob.glob(path))\n",
    "\n",
    "path = os.path.join(DATA_DIR, \"RUL_FD*.txt\")\n",
    "all_rul_files = sorted(glob.glob(path))\n",
    "\n",
    "all_test_files"
   ]
  },
  {
   "cell_type": "code",
   "execution_count": 9,
   "metadata": {},
   "outputs": [
    {
     "name": "stdout",
     "output_type": "stream",
     "text": [
      "(100, 2)\n",
      "(259, 2)\n",
      "(100, 2)\n",
      "(248, 2)\n"
     ]
    }
   ],
   "source": [
    "test_prediction_results = []\n",
    "\n",
    "for i, test_X_path in enumerate(all_test_files):\n",
    "    # Read in the features\n",
    "    test_df = data_util.load_data([test_X_path], cols, sort_cols)\n",
    "\n",
    "    # Read in the labels (RUL)\n",
    "    test_rul_df = data_util.load_rul_data([all_rul_files[i]], ['id', 'RUL_actual'])\n",
    "\n",
    "    # Calculate the RUL and merge back to the test dataframe\n",
    "    test_df = data_util.calc_test_rul(test_df, test_rul_df)\n",
    "\n",
    "    # Transform\n",
    "    test_df = data_util.transform(test_df, pipeline)\n",
    "    \n",
    "    results = []\n",
    "\n",
    "    for engine_id in test_df['id'].unique():\n",
    "        engine_df = test_df[ test_df['id'] == engine_id]\n",
    "\n",
    "        # Skip the engine with less then 25 for now, TODO pad\n",
    "        if engine_df.shape[0] > sequence_length:\n",
    "            last_batch = engine_df[feature_cols].iloc[-sequence_length:].values.reshape(batch_size, sequence_length, num_features)\n",
    "            rul = engine_df['RUL'].iloc[-1:].values[0]\n",
    "            prediction = inf_model.predict_on_batch(last_batch)[0,0]\n",
    "\n",
    "            results.append([engine_id, prediction, rul, prediction-rul])\n",
    "            \n",
    "    test_prediction_results.append(np.array(results))\n",
    "    "
   ]
  },
  {
   "cell_type": "markdown",
   "metadata": {},
   "source": [
    "Plot the results by engine id. Those predictions above zero exceeded the actual RUL, it is preferable to be less optimistic."
   ]
  },
  {
   "cell_type": "code",
   "execution_count": 10,
   "metadata": {
    "scrolled": false
   },
   "outputs": [
    {
     "data": {
      "image/png": "[encoded data removed]",
      "text/plain": [
       "<Figure size 2160x432 with 4 Axes>"
      ]
     },
     "metadata": {
      "needs_background": "light"
     },
     "output_type": "display_data"
    }
   ],
   "source": [
    "fig = plt.figure(figsize=(30, 6))\n",
    "for i, r in enumerate(test_prediction_results):\n",
    "    ax = plt.subplot(1, 4, i+1)\n",
    "    # Subtract the base to show the original engine id\n",
    "    ax.scatter(r[:,0] - data_util.path_to_id_base(all_test_files[i]), r[:,3], marker='.',)\n",
    "    \n",
    "    ax.set_xlabel(\"Engine Id\")\n",
    "    ax.set_ylabel(\"Prediction - RUL\")\n",
    "    ax.set_title(os.path.basename(all_test_files[i]))\n",
    "\n",
    "    ax.axhline(y=0, color='r', marker='.')\n",
    "\n",
    "plt.show()"
   ]
  },
  {
   "cell_type": "markdown",
   "metadata": {},
   "source": [
    "Let's plot a single file for a close-up view."
   ]
  },
  {
   "cell_type": "code",
   "execution_count": 11,
   "metadata": {},
   "outputs": [],
   "source": [
    "results = test_prediction_results[1] # 1 is test_FD002"
   ]
  },
  {
   "cell_type": "code",
   "execution_count": 12,
   "metadata": {},
   "outputs": [
    {
     "data": {
      "image/png": "[encoded data removed]",
      "text/plain": [
       "<Figure size 432x288 with 1 Axes>"
      ]
     },
     "metadata": {
      "needs_background": "light"
     },
     "output_type": "display_data"
    }
   ],
   "source": [
    "plt.scatter(results[:,0], results[:,3], marker='.', label=\"Diff\")\n",
    "plt.xlabel(\"Engine Id\")\n",
    "plt.ylabel(\"Prediction - RUL\")\n",
    "\n",
    "plt.axhline(y=0, color='r', marker='.')\n",
    "\n",
    "plt.show()\n"
   ]
  },
  {
   "cell_type": "markdown",
   "metadata": {},
   "source": [
    "This is another view based only on the RUL, not the engine."
   ]
  },
  {
   "cell_type": "code",
   "execution_count": 13,
   "metadata": {},
   "outputs": [
    {
     "data": {
      "image/png": "[encoded data removed]",
      "text/plain": [
       "<Figure size 432x288 with 1 Axes>"
      ]
     },
     "metadata": {
      "needs_background": "light"
     },
     "output_type": "display_data"
    }
   ],
   "source": [
    "plt.scatter(results[:,2], results[:,1], marker='.')\n",
    "plt.plot(results[:,2], results[:,2], 'r')\n",
    "plt.xlabel(\"RUL actual\")\n",
    "plt.ylabel(\"RUL predicted\")\n",
    "\n",
    "plt.show()\n"
   ]
  },
  {
   "cell_type": "code",
   "execution_count": null,
   "metadata": {},
   "outputs": [],
   "source": []
  }
 ],
 "metadata": {
  "anaconda-cloud": {},
  "kernelspec": {
   "display_name": "Python 3",
   "language": "python",
   "name": "python3"
  },
  "language_info": {
   "codemirror_mode": {
    "name": "ipython",
    "version": 3
   },
   "file_extension": ".py",
   "mimetype": "text/x-python",
   "name": "python",
   "nbconvert_exporter": "python",
   "pygments_lexer": "ipython3",
   "version": "3.6.7"
  }
 },
 "nbformat": 4,
 "nbformat_minor": 2
}
